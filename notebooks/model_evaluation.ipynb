{
 "cells": [
  {
   "cell_type": "markdown",
   "metadata": {},
   "source": [
    "1. Import library"
   ]
  },
  {
   "cell_type": "code",
   "execution_count": null,
   "metadata": {},
   "outputs": [],
   "source": [
    "import pandas as pd\n",
    "import numpy as np\n",
    "import matplotlib.pyplot as plt\n",
    "import matplotlib.dates as mdates\n",
    "from sklearn.preprocessing import MinMaxScaler\n",
    "from keras.models import load_model"
   ]
  },
  {
   "cell_type": "markdown",
   "metadata": {},
   "source": [
    "2. Read data from CSV and evaluate model"
   ]
  },
  {
   "cell_type": "code",
   "execution_count": null,
   "metadata": {},
   "outputs": [],
   "source": [
    "cryptos = ['ADA', 'BTC', 'ETH']\n",
    "\n",
    "for crypto in cryptos:\n",
    "    # Đọc dữ liệu đã xử lý\n",
    "    data = pd.read_csv(f'../data/processed/{crypto}_processed.csv')\n",
    "\n",
    "    # Lấy cột Date và Close\n",
    "    data = data[['Date', 'Close']]\n",
    "\n",
    "    # Chuyển cột Date sang kiểu datetime\n",
    "    data['Date'] = pd.to_datetime(data['Date'])\n",
    "\n",
    "    # Đặt cột Date làm index\n",
    "    data.set_index('Date', inplace=True)\n",
    "\n",
    "    # Scale dữ liệu\n",
    "    scaler = MinMaxScaler(feature_range=(0, 1))\n",
    "    final_data = data.values\n",
    "    scaled_data = scaler.fit_transform(final_data)\n",
    "\n",
    "    # Chia dữ liệu thành 2 tập train và validation\n",
    "    train_size = int(len(scaled_data) * 0.7)\n",
    "    train_data = scaled_data[:train_size]\n",
    "    valid_data = scaled_data[train_size:]\n",
    "\n",
    "    # Tạo dữ liệu cho model\n",
    "    x_valid = []\n",
    "    y_valid = final_data[train_size:]\n",
    "    for i in range(60, len(valid_data)):\n",
    "        x_valid.append(valid_data[i-60:i, 0])\n",
    "\n",
    "    # Chuyển dữ liệu về dạng numpy array\n",
    "    x_valid = np.array(x_valid)\n",
    "    x_valid = np.reshape(x_valid, (x_valid.shape[0], x_valid.shape[1], 1))\n",
    "\n",
    "    # Load model\n",
    "    model = load_model(f'../models/saved_models/{crypto}_model.h5')\n",
    "\n",
    "    # Dự đoán giá đóng cửa\n",
    "    predictions = model.predict(x_valid)\n",
    "    predictions = scaler.inverse_transform(predictions)\n",
    "\n",
    "    # Tính sai số\n",
    "    rms = np.sqrt(np.mean(np.power((predictions - y_valid), 2)))\n",
    "    print(f'Root Mean Square Error for {crypto}: {rms}')\n",
    "\n",
    "    # Vẽ biểu đồ\n",
    "    plt.figure(figsize=(16,8))\n",
    "    plt.plot(data.index[train_size:], y_valid, color='blue', label='Actual Close Price')\n",
    "    plt.plot(data.index[train_size:], predictions, color='red', label='Predicted Close Price')\n",
    "    plt.title(f'Biểu đồ dự đoán giá đóng cửa của {crypto}')\n",
    "    plt.xlabel('Thời gian')\n",
    "    plt.ylabel('Giá đóng cửa')\n",
    "\n",
    "    plt.grid(True)\n",
    "    plt.legend()\n",
    "    plt.tight_layout()\n",
    "    plt.show()"
   ]
  }
 ],
 "metadata": {
  "kernelspec": {
   "display_name": "venv",
   "language": "python",
   "name": "python3"
  },
  "language_info": {
   "codemirror_mode": {
    "name": "ipython",
    "version": 3
   },
   "file_extension": ".py",
   "mimetype": "text/x-python",
   "name": "python",
   "nbconvert_exporter": "python",
   "pygments_lexer": "ipython3",
   "version": "3.8.10"
  }
 },
 "nbformat": 4,
 "nbformat_minor": 2
}
